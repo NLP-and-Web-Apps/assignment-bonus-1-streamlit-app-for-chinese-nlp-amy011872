{
 "cells": [
  {
   "cell_type": "code",
   "execution_count": 1,
   "metadata": {},
   "outputs": [],
   "source": [
    "import streamlit as st\n",
    "import tensorflow as tf"
   ]
  },
  {
   "cell_type": "code",
   "execution_count": 3,
   "metadata": {},
   "outputs": [
    {
     "name": "stdout",
     "output_type": "stream",
     "text": [
      "Collecting vaderSentiment\n",
      "  Using cached vaderSentiment-3.3.2-py2.py3-none-any.whl (125 kB)\n",
      "Requirement already satisfied: requests in /Users/r07525009/miniforge3/envs/tf26/lib/python3.9/site-packages (from vaderSentiment) (2.28.1)\n",
      "Requirement already satisfied: certifi>=2017.4.17 in /Users/r07525009/miniforge3/envs/tf26/lib/python3.9/site-packages (from requests->vaderSentiment) (2022.9.24)\n",
      "Requirement already satisfied: charset-normalizer<3,>=2 in /Users/r07525009/miniforge3/envs/tf26/lib/python3.9/site-packages (from requests->vaderSentiment) (2.1.1)\n",
      "Requirement already satisfied: idna<4,>=2.5 in /Users/r07525009/miniforge3/envs/tf26/lib/python3.9/site-packages (from requests->vaderSentiment) (3.4)\n",
      "Requirement already satisfied: urllib3<1.27,>=1.21.1 in /Users/r07525009/miniforge3/envs/tf26/lib/python3.9/site-packages (from requests->vaderSentiment) (1.26.11)\n",
      "Installing collected packages: vaderSentiment\n",
      "Successfully installed vaderSentiment-3.3.2\n"
     ]
    }
   ],
   "source": [
    "!pip install vaderSentiment"
   ]
  },
  {
   "cell_type": "code",
   "execution_count": 4,
   "metadata": {},
   "outputs": [],
   "source": [
    "from vaderSentiment.vaderSentiment import SentimentIntensityAnalyzer"
   ]
  },
  {
   "cell_type": "code",
   "execution_count": 7,
   "metadata": {},
   "outputs": [
    {
     "data": {
      "text/plain": [
       "{'neg': 0.309, 'neu': 0.247, 'pos': 0.444, 'compound': 0.4926}"
      ]
     },
     "execution_count": 7,
     "metadata": {},
     "output_type": "execute_result"
    }
   ],
   "source": [
    "ana = SentimentIntensityAnalyzer()\n",
    "sent = 'I hate rainy days, sunny days are great!'\n",
    "ana.polarity_scores(sent)\n"
   ]
  },
  {
   "cell_type": "code",
   "execution_count": 8,
   "metadata": {},
   "outputs": [
    {
     "name": "stdout",
     "output_type": "stream",
     "text": [
      "I {'neg': 0.0, 'neu': 1.0, 'pos': 0.0, 'compound': 0.0}\n",
      "hate {'neg': 1.0, 'neu': 0.0, 'pos': 0.0, 'compound': -0.5719}\n",
      "rainy {'neg': 1.0, 'neu': 0.0, 'pos': 0.0, 'compound': -0.0772}\n",
      "days, {'neg': 0.0, 'neu': 1.0, 'pos': 0.0, 'compound': 0.0}\n",
      "sunny {'neg': 0.0, 'neu': 0.0, 'pos': 1.0, 'compound': 0.4215}\n",
      "days {'neg': 0.0, 'neu': 1.0, 'pos': 0.0, 'compound': 0.0}\n",
      "are {'neg': 0.0, 'neu': 1.0, 'pos': 0.0, 'compound': 0.0}\n",
      "great! {'neg': 0.0, 'neu': 0.0, 'pos': 1.0, 'compound': 0.6588}\n"
     ]
    }
   ],
   "source": [
    "for i in sent.split():\n",
    "    print(i, ana.polarity_scores(i))"
   ]
  },
  {
   "cell_type": "code",
   "execution_count": 9,
   "metadata": {},
   "outputs": [
    {
     "name": "stdout",
     "output_type": "stream",
     "text": [
      "I 0.0\n",
      "hate -0.5719\n",
      "rainy -0.0772\n",
      "days, 0.0\n",
      "sunny 0.4215\n",
      "days 0.0\n",
      "are 0.0\n",
      "great! 0.6588\n"
     ]
    }
   ],
   "source": [
    "for i in sent.split():\n",
    "    print(i, ana.polarity_scores(i)['compound'])"
   ]
  },
  {
   "cell_type": "code",
   "execution_count": 10,
   "metadata": {},
   "outputs": [],
   "source": [
    "anaylzer = SentimentIntensityAnalyzer()\n",
    "pos_list, neg_list, neu_list = [], [], []\n",
    "for i in sent.split():\n",
    "    senti = anaylzer.polarity_scores(i)['compound']\n",
    "    if senti > 0:\n",
    "        pos_list.append(i)\n",
    "        pos_list.append(senti)\n",
    "    elif senti < 0:\n",
    "        neg_list.append(i)\n",
    "        neg_list.append(senti)\n",
    "    else:\n",
    "        neu_list.append(i)\n",
    "        neu_list.append(senti)"
   ]
  },
  {
   "cell_type": "code",
   "execution_count": 11,
   "metadata": {},
   "outputs": [
    {
     "data": {
      "text/plain": [
       "['sunny', 0.4215, 'great!', 0.6588]"
      ]
     },
     "execution_count": 11,
     "metadata": {},
     "output_type": "execute_result"
    }
   ],
   "source": [
    "pos_list"
   ]
  },
  {
   "cell_type": "code",
   "execution_count": 12,
   "metadata": {},
   "outputs": [
    {
     "data": {
      "text/plain": [
       "{'positive': ['sunny', 0.4215, 'great!', 0.6588],\n",
       " 'neutral': ['I', 0.0, 'days,', 0.0, 'days', 0.0, 'are', 0.0],\n",
       " 'negative': ['hate', -0.5719, 'rainy', -0.0772]}"
      ]
     },
     "execution_count": 12,
     "metadata": {},
     "output_type": "execute_result"
    }
   ],
   "source": [
    "senti_dict = {'positive': pos_list,\n",
    "              'neutral': neu_list,\n",
    "              'negative': neg_list}\n",
    "senti_dict"
   ]
  },
  {
   "cell_type": "code",
   "execution_count": 13,
   "metadata": {},
   "outputs": [],
   "source": [
    "def vader_anaylze(rawText):\n",
    "    anaylzer = SentimentIntensityAnalyzer()\n",
    "    pos_list, neg_list, neu_list = [], [], []\n",
    "    for i in rawText.split():\n",
    "        senti = anaylzer.polarity_scores(i)['compound']\n",
    "        if senti > 0:\n",
    "            pos_list.append((i, senti))\n",
    "        elif senti < 0:\n",
    "            neg_list.append((i, senti))\n",
    "        else:\n",
    "            neu_list.append((i, senti))\n",
    "\n",
    "    return pos_list, neg_list, neu_list\n",
    "\n",
    "pos_list, neg_list, neu_list = vader_anaylze(sent)"
   ]
  },
  {
   "cell_type": "code",
   "execution_count": 14,
   "metadata": {},
   "outputs": [
    {
     "data": {
      "text/plain": [
       "[('sunny', 0.4215), ('great!', 0.6588)]"
      ]
     },
     "execution_count": 14,
     "metadata": {},
     "output_type": "execute_result"
    }
   ],
   "source": [
    "pos_list"
   ]
  },
  {
   "cell_type": "code",
   "execution_count": 16,
   "metadata": {},
   "outputs": [
    {
     "name": "stdout",
     "output_type": "stream",
     "text": [
      "Collecting snownlp\n",
      "  Using cached snownlp-0.12.3-py3-none-any.whl\n",
      "Installing collected packages: snownlp\n",
      "Successfully installed snownlp-0.12.3\n"
     ]
    }
   ],
   "source": [
    "!pip install snownlp"
   ]
  },
  {
   "cell_type": "code",
   "execution_count": 21,
   "metadata": {},
   "outputs": [],
   "source": [
    "from snownlp import SnowNLP"
   ]
  },
  {
   "cell_type": "code",
   "execution_count": 23,
   "metadata": {},
   "outputs": [
    {
     "data": {
      "text/plain": [
       "0.10375125863661461"
      ]
     },
     "execution_count": 23,
     "metadata": {},
     "output_type": "execute_result"
    }
   ],
   "source": [
    "res = SnowNLP(sent)\n",
    "res.sentiments"
   ]
  },
  {
   "cell_type": "code",
   "execution_count": 24,
   "metadata": {},
   "outputs": [
    {
     "data": {
      "text/plain": [
       "['I', 'hate', 'rainy', 'days,', 'sunny', 'days', 'are', 'great!']"
      ]
     },
     "execution_count": 24,
     "metadata": {},
     "output_type": "execute_result"
    }
   ],
   "source": [
    "res.words"
   ]
  },
  {
   "cell_type": "code",
   "execution_count": 26,
   "metadata": {},
   "outputs": [
    {
     "name": "stdout",
     "output_type": "stream",
     "text": [
      "0.8675081527338344\n",
      "0.8675081527338344\n"
     ]
    }
   ],
   "source": [
    "text_1 = '人生好难啊' \n",
    "s_1 = SnowNLP(text_1)\n",
    "text_2 = '人生好难啊，要怎样才能每天开心的活着呢？'\n",
    "s_2 = SnowNLP(text_1)\n",
    "print(s_1.sentiments)\n",
    "print(s_2.sentiments)"
   ]
  },
  {
   "cell_type": "code",
   "execution_count": 1,
   "metadata": {},
   "outputs": [],
   "source": [
    "from datetime import datetime"
   ]
  },
  {
   "cell_type": "code",
   "execution_count": 5,
   "metadata": {},
   "outputs": [
    {
     "name": "stdout",
     "output_type": "stream",
     "text": [
      "2022-09-26 21:23:12.642404\n"
     ]
    }
   ],
   "source": [
    "print(datetime.now())"
   ]
  },
  {
   "cell_type": "code",
   "execution_count": null,
   "metadata": {},
   "outputs": [],
   "source": []
  }
 ],
 "metadata": {
  "interpreter": {
   "hash": "68f0571cbd4d590adc2237384deb504ec0282eed0ea443a528b4876193e87c44"
  },
  "kernelspec": {
   "display_name": "Python 3.9.0 ('tf26')",
   "language": "python",
   "name": "python3"
  },
  "language_info": {
   "codemirror_mode": {
    "name": "ipython",
    "version": 3
   },
   "file_extension": ".py",
   "mimetype": "text/x-python",
   "name": "python",
   "nbconvert_exporter": "python",
   "pygments_lexer": "ipython3",
   "version": "3.9.0"
  },
  "orig_nbformat": 4
 },
 "nbformat": 4,
 "nbformat_minor": 2
}
